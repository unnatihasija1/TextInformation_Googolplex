{
 "cells": [
  {
   "cell_type": "markdown",
   "metadata": {},
   "source": [
    "**3. NLP Pipeline**\n",
    "\n",
    "**- Sentiment Analysis and prediction using K Nearest Neighbor**\n"
   ]
  },
  {
   "cell_type": "code",
   "execution_count": 2,
   "metadata": {},
   "outputs": [
    {
     "name": "stderr",
     "output_type": "stream",
     "text": [
      "c:\\Users\\pdhiman\\Anaconda3\\lib\\site-packages\\scipy\\__init__.py:146: UserWarning: A NumPy version >=1.16.5 and <1.23.0 is required for this version of SciPy (detected version 1.23.4\n",
      "  warnings.warn(f\"A NumPy version >={np_minversion} and <{np_maxversion}\"\n",
      "[nltk_data] Downloading package stopwords to\n",
      "[nltk_data]     C:\\Users\\pdhiman\\AppData\\Roaming\\nltk_data...\n",
      "[nltk_data]   Package stopwords is already up-to-date!\n",
      "[nltk_data] Downloading package punkt to\n",
      "[nltk_data]     C:\\Users\\pdhiman\\AppData\\Roaming\\nltk_data...\n",
      "[nltk_data]   Package punkt is already up-to-date!\n",
      "[nltk_data] Downloading package wordnet to\n",
      "[nltk_data]     C:\\Users\\pdhiman\\AppData\\Roaming\\nltk_data...\n",
      "[nltk_data]   Package wordnet is already up-to-date!\n",
      "[nltk_data] Downloading package omw-1.4 to\n",
      "[nltk_data]     C:\\Users\\pdhiman\\AppData\\Roaming\\nltk_data...\n",
      "[nltk_data]   Package omw-1.4 is already up-to-date!\n",
      "[nltk_data] Downloading package words to\n",
      "[nltk_data]     C:\\Users\\pdhiman\\AppData\\Roaming\\nltk_data...\n",
      "[nltk_data]   Package words is already up-to-date!\n"
     ]
    }
   ],
   "source": [
    "# Import Libraries\n",
    "\n",
    "import numpy as np\n",
    "import pandas as pd\n",
    "import scipy\n",
    "import itertools\n",
    "import matplotlib\n",
    "import matplotlib.pyplot as plt\n",
    "from scipy.spatial.distance import cdist\n",
    "from math import sqrt\n",
    "from collections import Counter\n",
    "from random import choice\n",
    "import nltk\n",
    "from nltk.corpus import stopwords \n",
    "from nltk.corpus import wordnet\n",
    "from nltk.tokenize import word_tokenize \n",
    "from nltk.stem import WordNetLemmatizer\n",
    "from nltk.stem.porter import PorterStemmer\n",
    "\n",
    "nltk.download('stopwords')\n",
    "nltk.download('punkt')\n",
    "nltk.download('wordnet')\n",
    "nltk.download('omw-1.4')\n",
    "nltk.download('words')\n",
    "\n",
    "import string\n",
    "import re\n",
    "import textblob\n",
    "from textblob import TextBlob\n",
    "\n",
    "from wordcloud import WordCloud, STOPWORDS\n",
    "from emot.emo_unicode import UNICODE_EMOJI\n",
    "\n",
    "porter = PorterStemmer()\n",
    "\n",
    "lemmatizer = WordNetLemmatizer() \n",
    "\n",
    "from wordcloud import ImageColorGenerator\n",
    "from PIL import Image\n",
    "\n",
    "import warnings\n",
    "%matplotlib inline\n",
    "\n"
   ]
  },
  {
   "cell_type": "markdown",
   "metadata": {},
   "source": [
    "**Using Pickle to get the NLP Preprocessed tweets with Vader Sentiment Analysis**"
   ]
  },
  {
   "cell_type": "code",
   "execution_count": 3,
   "metadata": {},
   "outputs": [
    {
     "data": {
      "text/html": [
       "<div>\n",
       "<style scoped>\n",
       "    .dataframe tbody tr th:only-of-type {\n",
       "        vertical-align: middle;\n",
       "    }\n",
       "\n",
       "    .dataframe tbody tr th {\n",
       "        vertical-align: top;\n",
       "    }\n",
       "\n",
       "    .dataframe thead th {\n",
       "        text-align: right;\n",
       "    }\n",
       "</style>\n",
       "<table border=\"1\" class=\"dataframe\">\n",
       "  <thead>\n",
       "    <tr style=\"text-align: right;\">\n",
       "      <th></th>\n",
       "      <th>Unnamed: 0</th>\n",
       "      <th>Date</th>\n",
       "      <th>ID</th>\n",
       "      <th>location</th>\n",
       "      <th>tweet</th>\n",
       "      <th>num_of_likes</th>\n",
       "      <th>num_of_retweet</th>\n",
       "      <th>language</th>\n",
       "      <th>cleaned_tweets</th>\n",
       "      <th>final_cleaned_tweets</th>\n",
       "      <th>sentiment_Original</th>\n",
       "      <th>sentiment_cleaned</th>\n",
       "      <th>sentiment_nlpfinal</th>\n",
       "      <th>vader_polarity</th>\n",
       "    </tr>\n",
       "  </thead>\n",
       "  <tbody>\n",
       "    <tr>\n",
       "      <th>0</th>\n",
       "      <td>0</td>\n",
       "      <td>2022-11-07 23:59:59+00:00</td>\n",
       "      <td>1589769667765469186</td>\n",
       "      <td>California, USA</td>\n",
       "      <td>Taking into account personal contributions &amp;am...</td>\n",
       "      <td>2</td>\n",
       "      <td>1</td>\n",
       "      <td>en</td>\n",
       "      <td>taking account personal bad everyone better tr...</td>\n",
       "      <td>taking account personal bad everyone better tr...</td>\n",
       "      <td>positive</td>\n",
       "      <td>positive</td>\n",
       "      <td>positive</td>\n",
       "      <td>{'neg': 0.271, 'neu': 0.403, 'pos': 0.326, 'co...</td>\n",
       "    </tr>\n",
       "    <tr>\n",
       "      <th>1</th>\n",
       "      <td>1</td>\n",
       "      <td>2022-11-07 23:59:59+00:00</td>\n",
       "      <td>1589769667652235267</td>\n",
       "      <td>@jlo follows ♡ 01.29.21</td>\n",
       "      <td>whats your fav song?\\n\\n❥ I’m voting #Jennifer...</td>\n",
       "      <td>0</td>\n",
       "      <td>10</td>\n",
       "      <td>en</td>\n",
       "      <td>whats song voting</td>\n",
       "      <td>whats song voting</td>\n",
       "      <td>positive</td>\n",
       "      <td>neutral</td>\n",
       "      <td>neutral</td>\n",
       "      <td>{'neg': 0.0, 'neu': 1.0, 'pos': 0.0, 'compound...</td>\n",
       "    </tr>\n",
       "    <tr>\n",
       "      <th>2</th>\n",
       "      <td>2</td>\n",
       "      <td>2022-11-07 23:59:59+00:00</td>\n",
       "      <td>1589769667127934977</td>\n",
       "      <td>Unknown</td>\n",
       "      <td>@MayoIsSpicyy He is allowed to speak his opini...</td>\n",
       "      <td>0</td>\n",
       "      <td>0</td>\n",
       "      <td>en</td>\n",
       "      <td>speak opinion like rest us opinion vote republ...</td>\n",
       "      <td>speak opinion like rest u opinion vote republi...</td>\n",
       "      <td>negative</td>\n",
       "      <td>positive</td>\n",
       "      <td>positive</td>\n",
       "      <td>{'neg': 0.0, 'neu': 0.828, 'pos': 0.172, 'comp...</td>\n",
       "    </tr>\n",
       "    <tr>\n",
       "      <th>3</th>\n",
       "      <td>3</td>\n",
       "      <td>2022-11-07 23:59:59+00:00</td>\n",
       "      <td>1589769666918244352</td>\n",
       "      <td>USA</td>\n",
       "      <td>HEY NY DISTRICT 10! PLEASE VOTE FOR @danielsgo...</td>\n",
       "      <td>1</td>\n",
       "      <td>1</td>\n",
       "      <td>en</td>\n",
       "      <td>hey district please vote</td>\n",
       "      <td>hey district please vote</td>\n",
       "      <td>positive</td>\n",
       "      <td>positive</td>\n",
       "      <td>positive</td>\n",
       "      <td>{'neg': 0.0, 'neu': 0.566, 'pos': 0.434, 'comp...</td>\n",
       "    </tr>\n",
       "    <tr>\n",
       "      <th>4</th>\n",
       "      <td>4</td>\n",
       "      <td>2022-11-07 23:59:59+00:00</td>\n",
       "      <td>1589769666679144448</td>\n",
       "      <td>DMV</td>\n",
       "      <td>@YDanasmithdutra @BaddCompani @politicalblond ...</td>\n",
       "      <td>3</td>\n",
       "      <td>0</td>\n",
       "      <td>en</td>\n",
       "      <td>vote blue matter</td>\n",
       "      <td>vote blue matter</td>\n",
       "      <td>negative</td>\n",
       "      <td>neutral</td>\n",
       "      <td>neutral</td>\n",
       "      <td>{'neg': 0.0, 'neu': 0.645, 'pos': 0.355, 'comp...</td>\n",
       "    </tr>\n",
       "  </tbody>\n",
       "</table>\n",
       "</div>"
      ],
      "text/plain": [
       "   Unnamed: 0                       Date                   ID  \\\n",
       "0           0  2022-11-07 23:59:59+00:00  1589769667765469186   \n",
       "1           1  2022-11-07 23:59:59+00:00  1589769667652235267   \n",
       "2           2  2022-11-07 23:59:59+00:00  1589769667127934977   \n",
       "3           3  2022-11-07 23:59:59+00:00  1589769666918244352   \n",
       "4           4  2022-11-07 23:59:59+00:00  1589769666679144448   \n",
       "\n",
       "                  location                                              tweet  \\\n",
       "0          California, USA  Taking into account personal contributions &am...   \n",
       "1  @jlo follows ♡ 01.29.21  whats your fav song?\\n\\n❥ I’m voting #Jennifer...   \n",
       "2                  Unknown  @MayoIsSpicyy He is allowed to speak his opini...   \n",
       "3                     USA   HEY NY DISTRICT 10! PLEASE VOTE FOR @danielsgo...   \n",
       "4                      DMV  @YDanasmithdutra @BaddCompani @politicalblond ...   \n",
       "\n",
       "   num_of_likes  num_of_retweet language  \\\n",
       "0             2               1       en   \n",
       "1             0              10       en   \n",
       "2             0               0       en   \n",
       "3             1               1       en   \n",
       "4             3               0       en   \n",
       "\n",
       "                                      cleaned_tweets  \\\n",
       "0  taking account personal bad everyone better tr...   \n",
       "1                                  whats song voting   \n",
       "2  speak opinion like rest us opinion vote republ...   \n",
       "3                           hey district please vote   \n",
       "4                                   vote blue matter   \n",
       "\n",
       "                                final_cleaned_tweets sentiment_Original  \\\n",
       "0  taking account personal bad everyone better tr...           positive   \n",
       "1                                  whats song voting           positive   \n",
       "2  speak opinion like rest u opinion vote republi...           negative   \n",
       "3                           hey district please vote           positive   \n",
       "4                                   vote blue matter           negative   \n",
       "\n",
       "  sentiment_cleaned sentiment_nlpfinal  \\\n",
       "0          positive           positive   \n",
       "1           neutral            neutral   \n",
       "2          positive           positive   \n",
       "3          positive           positive   \n",
       "4           neutral            neutral   \n",
       "\n",
       "                                      vader_polarity  \n",
       "0  {'neg': 0.271, 'neu': 0.403, 'pos': 0.326, 'co...  \n",
       "1  {'neg': 0.0, 'neu': 1.0, 'pos': 0.0, 'compound...  \n",
       "2  {'neg': 0.0, 'neu': 0.828, 'pos': 0.172, 'comp...  \n",
       "3  {'neg': 0.0, 'neu': 0.566, 'pos': 0.434, 'comp...  \n",
       "4  {'neg': 0.0, 'neu': 0.645, 'pos': 0.355, 'comp...  "
      ]
     },
     "execution_count": 3,
     "metadata": {},
     "output_type": "execute_result"
    }
   ],
   "source": [
    "# Loading All the tweets \n",
    "\n",
    "df = pd.read_pickle('source/nlp_sentiments.pkl')\n",
    "df.head()"
   ]
  },
  {
   "cell_type": "markdown",
   "metadata": {},
   "source": [
    "**Preparing for KNN**"
   ]
  },
  {
   "cell_type": "code",
   "execution_count": 4,
   "metadata": {},
   "outputs": [
    {
     "name": "stdout",
     "output_type": "stream",
     "text": [
      "training samples: {training_data.shape[0]}\n",
      "testing samples: {testing_data.shape[0]}\n"
     ]
    }
   ],
   "source": [
    "# Spliting tweets intro training and testing sets\n",
    "\n",
    "training_data = df.sample(frac=0.8, random_state=25)\n",
    "testing_data = df.drop(training_data.index)\n",
    "\n",
    "print(\"training samples: {training_data.shape[0]}\")\n",
    "print(\"testing samples: {testing_data.shape[0]}\")\n"
   ]
  },
  {
   "cell_type": "code",
   "execution_count": 5,
   "metadata": {},
   "outputs": [
    {
     "name": "stdout",
     "output_type": "stream",
     "text": [
      "Unique words in Training Data: 7593\n",
      "Unique words in Test Data: 4204\n"
     ]
    }
   ],
   "source": [
    "training_unique = (list(set(training_data['final_cleaned_tweets'].str.findall(\"\\w+\").sum()))) # Finding all the unique words in training data's Tweet column\n",
    "training_unique_words = len(training_unique)\n",
    "\n",
    "testing_unique = (list(set(testing_data['final_cleaned_tweets'].str.findall(\"\\w+\").sum()))) # Finding all the unique words in training data's Tweet column\n",
    "testing_unique_words = len(testing_unique)\n",
    "\n",
    "print(\"Unique words in Training Data: {}\".format(training_unique_words))\n",
    "print(\"Unique words in Test Data: {}\".format(testing_unique_words))\n",
    "\n",
    "#let's print the count and not the actual words, since sentiments.csv will have 100,000 tweets for over 3 months.\n",
    "#print(\"Unique words in Training Data: {}\".format(training_unique))\n",
    "#print(\"Unique words in Testing Data: {}\".format(testing_unique))"
   ]
  },
  {
   "cell_type": "code",
   "execution_count": 6,
   "metadata": {},
   "outputs": [],
   "source": [
    "#Training Data\n",
    "train_matrix = [] # Forming a 2D matrix to store all training feature vectors\n",
    "\n",
    "#Test Data\n",
    "test_matrix = [] # Forming a 2D matrix to store all test feature vectors"
   ]
  },
  {
   "cell_type": "code",
   "execution_count": 7,
   "metadata": {},
   "outputs": [],
   "source": [
    "#Create feature vector containing features count of each word, \n",
    "#for all the Processed tweets.\n",
    "\n",
    "for sentence in training_data['final_cleaned_tweets']:\n",
    "    train_featurevec = []\n",
    "    word = sentence.split()\n",
    "    for w in training_unique:\n",
    "        train_featurevec.append(word.count(w))\n",
    "        #print(train_featurevec)\n",
    "    train_matrix.append(train_featurevec)\n",
    "#print(train_matrix)\n",
    "#Test Data: Extracting features and storing them into the test feature matrix\n",
    "for sentence in testing_data['final_cleaned_tweets']:\n",
    "    test_featurevec = []\n",
    "    word = sentence.split()\n",
    "    for w in training_unique:\n",
    "        test_featurevec.append(word.count(w))\n",
    "    test_matrix.append(test_featurevec)"
   ]
  },
  {
   "cell_type": "code",
   "execution_count": 8,
   "metadata": {},
   "outputs": [],
   "source": [
    "#Calculating distances between every test instance with all the train instances. This returns a 2D distances vector.\n",
    "dists = cdist(test_matrix,train_matrix,'euclidean') "
   ]
  },
  {
   "cell_type": "code",
   "execution_count": 9,
   "metadata": {},
   "outputs": [
    {
     "data": {
      "text/plain": [
       "(3737, 14949)"
      ]
     },
     "execution_count": 9,
     "metadata": {},
     "output_type": "execute_result"
    }
   ],
   "source": [
    "#Making an empty column in our test data for predicted labels.\n",
    "testing_data['Predicted Label'] = ''\n",
    "dists.shape"
   ]
  },
  {
   "cell_type": "code",
   "execution_count": 10,
   "metadata": {},
   "outputs": [],
   "source": [
    "from sklearn.preprocessing import StandardScaler\n",
    "from sklearn.neighbors import KNeighborsClassifier\n",
    "from sklearn import metrics\n",
    "from sklearn.metrics import classification_report, confusion_matrix"
   ]
  },
  {
   "cell_type": "code",
   "execution_count": 14,
   "metadata": {},
   "outputs": [],
   "source": [
    "#Initializing lists to be used in plotting later.\n",
    "acc_list = []\n",
    "rec_list = []\n",
    "prec_list = []\n",
    "f1_list = []"
   ]
  },
  {
   "cell_type": "code",
   "execution_count": 15,
   "metadata": {},
   "outputs": [],
   "source": [
    "def classifying(train_matrix, test_matrix):\n",
    "    #training and testing feature vectors\n",
    "    \n",
    "    X_train = train_matrix \n",
    "    X_test = test_matrix \n",
    "    y_train = training_data['sentiment_nlpfinal']\n",
    "    y_test = testing_data['sentiment_nlpfinal']\n",
    "\n",
    "    for k in [1,3,5,7]:\n",
    "\n",
    "        classifier = KNeighborsClassifier(n_neighbors=k) #(n_neighbors=k,algorithm='')\n",
    "        classifier.fit(X_train, y_train) #Fitting the built-in sklearn classifier on our training data\n",
    "        predicted_label = classifier.predict(X_test) #Making the classifier to predict on the previously unseen test data.\n",
    "\n",
    "        accuracy_score = (metrics.accuracy_score(y_test,predicted_label))\n",
    "        accuracy_score = (round(accuracy_score,2))*100\n",
    "        acc_list.append(accuracy_score)\n",
    "\n",
    "        confusion_mat = confusion_matrix(y_test, predicted_label)\n",
    "        class_report = classification_report(y_test, predicted_label)\n",
    "\n",
    "        macro_precision = (metrics.precision_score(y_test, predicted_label, average='macro'))\n",
    "        macro_precision = (round(macro_precision,2))*100\n",
    "        prec_list.append(macro_precision)\n",
    "\n",
    "        macro_recall = (metrics.recall_score(y_test, predicted_label, average='macro'))\n",
    "        macro_recall = (round(macro_recall,2))*100\n",
    "        rec_list.append(macro_recall)\n",
    "\n",
    "        macro_f1 = (metrics.f1_score(y_test, predicted_label, average='macro'))\n",
    "        macro_f1 = (round(macro_f1,2))*100\n",
    "        f1_list.append(macro_f1)\n",
    "\n",
    "        print(\"\\n\\nConfusion Matrix for k = {} is:\\n\".format(k))\n",
    "        print(confusion_mat)\n",
    "        print(\"\\nClassification Report for k = {} is:\\n\".format(k))\n",
    "        print(class_report)\n",
    "        print(\"Accuracy Score for k = {0} is: {1}%\".format(k,accuracy_score))\n",
    "        print(\"Macroaveraged Recall for k = {0} is: {1}%\".format(k,macro_recall))\n",
    "        print(\"Macroaveraged Precision for k = {0} is: {1}%\".format(k,macro_precision))\n",
    "        print(\"Macroaveraged F1-score for k = {0} is: {1}%\".format(k,macro_f1))"
   ]
  },
  {
   "cell_type": "code",
   "execution_count": 16,
   "metadata": {},
   "outputs": [
    {
     "name": "stdout",
     "output_type": "stream",
     "text": [
      "\n",
      "\n",
      "Confusion Matrix for k = 1 is:\n",
      "\n",
      "[[ 174  697   81]\n",
      " [  12 1238   28]\n",
      " [  74  764  669]]\n",
      "\n",
      "Classification Report for k = 1 is:\n",
      "\n",
      "              precision    recall  f1-score   support\n",
      "\n",
      "    negative       0.67      0.18      0.29       952\n",
      "     neutral       0.46      0.97      0.62      1278\n",
      "    positive       0.86      0.44      0.59      1507\n",
      "\n",
      "    accuracy                           0.56      3737\n",
      "   macro avg       0.66      0.53      0.50      3737\n",
      "weighted avg       0.67      0.56      0.52      3737\n",
      "\n",
      "Accuracy Score for k = 1 is: 56.00000000000001%\n",
      "Macroaveraged Recall for k = 1 is: 53.0%\n",
      "Macroaveraged Precision for k = 1 is: 66.0%\n",
      "Macroaveraged F1-score for k = 1 is: 50.0%\n",
      "\n",
      "\n",
      "Confusion Matrix for k = 3 is:\n",
      "\n",
      "[[ 110  781   61]\n",
      " [  12 1252   14]\n",
      " [  65  899  543]]\n",
      "\n",
      "Classification Report for k = 3 is:\n",
      "\n",
      "              precision    recall  f1-score   support\n",
      "\n",
      "    negative       0.59      0.12      0.19       952\n",
      "     neutral       0.43      0.98      0.59      1278\n",
      "    positive       0.88      0.36      0.51      1507\n",
      "\n",
      "    accuracy                           0.51      3737\n",
      "   macro avg       0.63      0.49      0.43      3737\n",
      "weighted avg       0.65      0.51      0.46      3737\n",
      "\n",
      "Accuracy Score for k = 3 is: 51.0%\n",
      "Macroaveraged Recall for k = 3 is: 49.0%\n",
      "Macroaveraged Precision for k = 3 is: 63.0%\n",
      "Macroaveraged F1-score for k = 3 is: 43.0%\n",
      "\n",
      "\n",
      "Confusion Matrix for k = 5 is:\n",
      "\n",
      "[[  86  829   37]\n",
      " [   6 1263    9]\n",
      " [  47  971  489]]\n",
      "\n",
      "Classification Report for k = 5 is:\n",
      "\n",
      "              precision    recall  f1-score   support\n",
      "\n",
      "    negative       0.62      0.09      0.16       952\n",
      "     neutral       0.41      0.99      0.58      1278\n",
      "    positive       0.91      0.32      0.48      1507\n",
      "\n",
      "    accuracy                           0.49      3737\n",
      "   macro avg       0.65      0.47      0.41      3737\n",
      "weighted avg       0.67      0.49      0.43      3737\n",
      "\n",
      "Accuracy Score for k = 5 is: 49.0%\n",
      "Macroaveraged Recall for k = 5 is: 47.0%\n",
      "Macroaveraged Precision for k = 5 is: 65.0%\n",
      "Macroaveraged F1-score for k = 5 is: 41.0%\n",
      "\n",
      "\n",
      "Confusion Matrix for k = 7 is:\n",
      "\n",
      "[[  57  860   35]\n",
      " [   5 1265    8]\n",
      " [  37 1015  455]]\n",
      "\n",
      "Classification Report for k = 7 is:\n",
      "\n",
      "              precision    recall  f1-score   support\n",
      "\n",
      "    negative       0.58      0.06      0.11       952\n",
      "     neutral       0.40      0.99      0.57      1278\n",
      "    positive       0.91      0.30      0.45      1507\n",
      "\n",
      "    accuracy                           0.48      3737\n",
      "   macro avg       0.63      0.45      0.38      3737\n",
      "weighted avg       0.65      0.48      0.41      3737\n",
      "\n",
      "Accuracy Score for k = 7 is: 48.0%\n",
      "Macroaveraged Recall for k = 7 is: 45.0%\n",
      "Macroaveraged Precision for k = 7 is: 63.0%\n",
      "Macroaveraged F1-score for k = 7 is: 38.0%\n"
     ]
    }
   ],
   "source": [
    "classifying(train_matrix,test_matrix)"
   ]
  },
  {
   "cell_type": "code",
   "execution_count": 23,
   "metadata": {},
   "outputs": [
    {
     "data": {
      "text/plain": [
       "<function matplotlib.pyplot.show(close=None, block=None)>"
      ]
     },
     "execution_count": 23,
     "metadata": {},
     "output_type": "execute_result"
    },
    {
     "data": {
      "image/png": "[encoded data removed]",
      "text/plain": [
       "<Figure size 864x576 with 4 Axes>"
      ]
     },
     "metadata": {
      "needs_background": "light"
     },
     "output_type": "display_data"
    }
   ],
   "source": [
    "k_ls = [1,3,5,7] \n",
    "\n",
    "fig = plt.figure(figsize=(12,8))\n",
    "\n",
    "plt.subplot(2,2,1)\n",
    "plt.plot(k_ls,acc_list)\n",
    "plt.title(\"Accuracy as KNN increase\",fontsize='x-large')\n",
    "plt.xlabel(\"k Nearest Neighbors\",fontsize='large')\n",
    "plt.ylabel(\"Accuracy\",fontsize='large')\n",
    "\n",
    "plt.subplot(2,2,2)\n",
    "plt.plot(k_ls,rec_list)\n",
    "plt.title(\"Recall as KNN increase\",fontsize='x-large')\n",
    "plt.xlabel(\"k Nearest Neighbors\",fontsize='large')\n",
    "plt.ylabel(\"Recall\",fontsize='large')\n",
    "\n",
    "plt.subplot(2,2,3)\n",
    "plt.plot(k_ls,prec_list)\n",
    "plt.title(\"Precision as KNN increase\",fontsize='x-large')\n",
    "plt.xlabel(\"k Nearest Neighbors\",fontsize='large')\n",
    "plt.ylabel(\"Precision\",fontsize='large')\n",
    "\n",
    "plt.subplot(2,2,4)\n",
    "plt.plot(k_ls,f1_list)\n",
    "plt.title(\"F1 as KNN increase\",fontsize='x-large')\n",
    "plt.xlabel(\"k Nearest Neighbors\",fontsize='large')\n",
    "plt.ylabel(\"F1\",fontsize='large')\n",
    "\n",
    "fig.subplots_adjust(hspace=.5)\n",
    "\n",
    "plt.show\n"
   ]
  }
 ],
 "metadata": {
  "kernelspec": {
   "display_name": "Python 3.9.12 64-bit ('base': conda)",
   "language": "python",
   "name": "python3"
  },
  "language_info": {
   "codemirror_mode": {
    "name": "ipython",
    "version": 3
   },
   "file_extension": ".py",
   "mimetype": "text/x-python",
   "name": "python",
   "nbconvert_exporter": "python",
   "pygments_lexer": "ipython3",
   "version": "3.9.12"
  },
  "orig_nbformat": 4,
  "vscode": {
   "interpreter": {
    "hash": "2e25ac0a2ec4bd15a326cc0293192c3a8a84da789cecae9df6446c66fd6bfd19"
   }
  }
 },
 "nbformat": 4,
 "nbformat_minor": 2
}
