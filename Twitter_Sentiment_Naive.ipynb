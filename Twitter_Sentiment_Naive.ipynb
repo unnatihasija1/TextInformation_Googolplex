{
 "cells": [
  {
   "attachments": {},
   "cell_type": "markdown",
   "metadata": {},
   "source": [
    "**Sentiment Analysis and prediction using Naive Bayes Classification**\n",
    "\n",
    "\n",
    "\n"
   ]
  },
  {
   "cell_type": "code",
   "execution_count": 1,
   "metadata": {},
   "outputs": [
    {
     "name": "stderr",
     "output_type": "stream",
     "text": [
      "[nltk_data] Downloading package stopwords to\n",
      "[nltk_data]     C:\\Users\\I068230\\AppData\\Roaming\\nltk_data...\n",
      "[nltk_data]   Package stopwords is already up-to-date!\n",
      "[nltk_data] Downloading package punkt to\n",
      "[nltk_data]     C:\\Users\\I068230\\AppData\\Roaming\\nltk_data...\n",
      "[nltk_data]   Package punkt is already up-to-date!\n",
      "[nltk_data] Downloading package wordnet to\n",
      "[nltk_data]     C:\\Users\\I068230\\AppData\\Roaming\\nltk_data...\n",
      "[nltk_data]   Package wordnet is already up-to-date!\n",
      "[nltk_data] Downloading package omw-1.4 to\n",
      "[nltk_data]     C:\\Users\\I068230\\AppData\\Roaming\\nltk_data...\n",
      "[nltk_data]   Package omw-1.4 is already up-to-date!\n",
      "[nltk_data] Downloading package words to\n",
      "[nltk_data]     C:\\Users\\I068230\\AppData\\Roaming\\nltk_data...\n",
      "[nltk_data]   Package words is already up-to-date!\n"
     ]
    }
   ],
   "source": [
    "# Import Libraries\n",
    "\n",
    "import pandas as pd\n",
    "import numpy as np\n",
    "import matplotlib.pyplot as plt\n",
    "\n",
    "from sklearn.feature_extraction.text import CountVectorizer\n",
    "from nltk.tokenize import RegexpTokenizer\n",
    "from sklearn.model_selection import train_test_split\n",
    "from sklearn import metrics\n",
    "from sklearn.naive_bayes import MultinomialNB\n",
    "\n",
    "import pandas as pd\n",
    "import snscrape.modules.twitter as sntwitter\n",
    "import numpy as np\n",
    "import matplotlib.pyplot as plt\n",
    "import seaborn as sns\n",
    "\n",
    "\n",
    "import nltk\n",
    "nltk.download('stopwords') \n",
    "nltk.download('punkt')\n",
    "nltk.download('wordnet')\n",
    "nltk.download('omw-1.4')\n",
    "nltk.download('words')\n",
    "\n",
    "from nltk.corpus import stopwords \n",
    "from nltk.tokenize import word_tokenize \n",
    "from nltk.stem import WordNetLemmatizer\n",
    "from nltk.stem.porter import PorterStemmer\n",
    "import gensim.downloader as api\n",
    "\n",
    "import string\n",
    "import re\n",
    "import textblob\n",
    "from textblob import TextBlob\n",
    "\n",
    "from wordcloud import WordCloud, STOPWORDS\n",
    "from emot.emo_unicode import UNICODE_EMOJI\n",
    "\n",
    "porter = PorterStemmer()\n",
    "\n",
    "lemmatizer = WordNetLemmatizer() \n",
    "\n",
    "from wordcloud import ImageColorGenerator\n",
    "from PIL import Image\n",
    "\n",
    "import warnings\n",
    "%matplotlib inline\n"
   ]
  },
  {
   "cell_type": "markdown",
   "metadata": {},
   "source": [
    "**Using pickle to get the NLP Preproccesed tweets**"
   ]
  },
  {
   "cell_type": "code",
   "execution_count": 2,
   "metadata": {},
   "outputs": [
    {
     "data": {
      "text/html": [
       "<div>\n",
       "<style scoped>\n",
       "    .dataframe tbody tr th:only-of-type {\n",
       "        vertical-align: middle;\n",
       "    }\n",
       "\n",
       "    .dataframe tbody tr th {\n",
       "        vertical-align: top;\n",
       "    }\n",
       "\n",
       "    .dataframe thead th {\n",
       "        text-align: right;\n",
       "    }\n",
       "</style>\n",
       "<table border=\"1\" class=\"dataframe\">\n",
       "  <thead>\n",
       "    <tr style=\"text-align: right;\">\n",
       "      <th></th>\n",
       "      <th>Unnamed: 0</th>\n",
       "      <th>Date</th>\n",
       "      <th>ID</th>\n",
       "      <th>location</th>\n",
       "      <th>tweet</th>\n",
       "      <th>num_of_likes</th>\n",
       "      <th>num_of_retweet</th>\n",
       "      <th>language</th>\n",
       "      <th>cleaned_tweets</th>\n",
       "      <th>final_cleaned_tweets</th>\n",
       "      <th>sentiment_Original</th>\n",
       "      <th>sentiment_cleaned</th>\n",
       "      <th>sentiment_nlpfinal</th>\n",
       "      <th>vader_polarity</th>\n",
       "    </tr>\n",
       "  </thead>\n",
       "  <tbody>\n",
       "    <tr>\n",
       "      <th>0</th>\n",
       "      <td>0</td>\n",
       "      <td>2022-11-07 23:59:59+00:00</td>\n",
       "      <td>1589769667765469186</td>\n",
       "      <td>California, USA</td>\n",
       "      <td>Taking into account personal contributions &amp;am...</td>\n",
       "      <td>2</td>\n",
       "      <td>1</td>\n",
       "      <td>en</td>\n",
       "      <td>taking account personal bad everyone better tr...</td>\n",
       "      <td>taking account personal bad everyone better tr...</td>\n",
       "      <td>positive</td>\n",
       "      <td>positive</td>\n",
       "      <td>positive</td>\n",
       "      <td>{'neg': 0.271, 'neu': 0.403, 'pos': 0.326, 'co...</td>\n",
       "    </tr>\n",
       "    <tr>\n",
       "      <th>1</th>\n",
       "      <td>1</td>\n",
       "      <td>2022-11-07 23:59:59+00:00</td>\n",
       "      <td>1589769667652235267</td>\n",
       "      <td>@jlo follows ♡ 01.29.21</td>\n",
       "      <td>whats your fav song?\\n\\n❥ I’m voting #Jennifer...</td>\n",
       "      <td>0</td>\n",
       "      <td>10</td>\n",
       "      <td>en</td>\n",
       "      <td>whats song voting</td>\n",
       "      <td>whats song voting</td>\n",
       "      <td>positive</td>\n",
       "      <td>neutral</td>\n",
       "      <td>neutral</td>\n",
       "      <td>{'neg': 0.0, 'neu': 1.0, 'pos': 0.0, 'compound...</td>\n",
       "    </tr>\n",
       "    <tr>\n",
       "      <th>2</th>\n",
       "      <td>2</td>\n",
       "      <td>2022-11-07 23:59:59+00:00</td>\n",
       "      <td>1589769667127934977</td>\n",
       "      <td>Unknown</td>\n",
       "      <td>@MayoIsSpicyy He is allowed to speak his opini...</td>\n",
       "      <td>0</td>\n",
       "      <td>0</td>\n",
       "      <td>en</td>\n",
       "      <td>speak opinion like rest us opinion vote republ...</td>\n",
       "      <td>speak opinion like rest u opinion vote republi...</td>\n",
       "      <td>negative</td>\n",
       "      <td>positive</td>\n",
       "      <td>positive</td>\n",
       "      <td>{'neg': 0.0, 'neu': 0.828, 'pos': 0.172, 'comp...</td>\n",
       "    </tr>\n",
       "    <tr>\n",
       "      <th>3</th>\n",
       "      <td>3</td>\n",
       "      <td>2022-11-07 23:59:59+00:00</td>\n",
       "      <td>1589769666918244352</td>\n",
       "      <td>USA</td>\n",
       "      <td>HEY NY DISTRICT 10! PLEASE VOTE FOR @danielsgo...</td>\n",
       "      <td>1</td>\n",
       "      <td>1</td>\n",
       "      <td>en</td>\n",
       "      <td>hey district please vote</td>\n",
       "      <td>hey district please vote</td>\n",
       "      <td>positive</td>\n",
       "      <td>positive</td>\n",
       "      <td>positive</td>\n",
       "      <td>{'neg': 0.0, 'neu': 0.566, 'pos': 0.434, 'comp...</td>\n",
       "    </tr>\n",
       "    <tr>\n",
       "      <th>4</th>\n",
       "      <td>4</td>\n",
       "      <td>2022-11-07 23:59:59+00:00</td>\n",
       "      <td>1589769666679144448</td>\n",
       "      <td>DMV</td>\n",
       "      <td>@YDanasmithdutra @BaddCompani @politicalblond ...</td>\n",
       "      <td>3</td>\n",
       "      <td>0</td>\n",
       "      <td>en</td>\n",
       "      <td>vote blue matter</td>\n",
       "      <td>vote blue matter</td>\n",
       "      <td>negative</td>\n",
       "      <td>neutral</td>\n",
       "      <td>neutral</td>\n",
       "      <td>{'neg': 0.0, 'neu': 0.645, 'pos': 0.355, 'comp...</td>\n",
       "    </tr>\n",
       "  </tbody>\n",
       "</table>\n",
       "</div>"
      ],
      "text/plain": [
       "   Unnamed: 0                       Date                   ID  \\\n",
       "0           0  2022-11-07 23:59:59+00:00  1589769667765469186   \n",
       "1           1  2022-11-07 23:59:59+00:00  1589769667652235267   \n",
       "2           2  2022-11-07 23:59:59+00:00  1589769667127934977   \n",
       "3           3  2022-11-07 23:59:59+00:00  1589769666918244352   \n",
       "4           4  2022-11-07 23:59:59+00:00  1589769666679144448   \n",
       "\n",
       "                  location                                              tweet  \\\n",
       "0          California, USA  Taking into account personal contributions &am...   \n",
       "1  @jlo follows ♡ 01.29.21  whats your fav song?\\n\\n❥ I’m voting #Jennifer...   \n",
       "2                  Unknown  @MayoIsSpicyy He is allowed to speak his opini...   \n",
       "3                     USA   HEY NY DISTRICT 10! PLEASE VOTE FOR @danielsgo...   \n",
       "4                      DMV  @YDanasmithdutra @BaddCompani @politicalblond ...   \n",
       "\n",
       "   num_of_likes  num_of_retweet language  \\\n",
       "0             2               1       en   \n",
       "1             0              10       en   \n",
       "2             0               0       en   \n",
       "3             1               1       en   \n",
       "4             3               0       en   \n",
       "\n",
       "                                      cleaned_tweets  \\\n",
       "0  taking account personal bad everyone better tr...   \n",
       "1                                  whats song voting   \n",
       "2  speak opinion like rest us opinion vote republ...   \n",
       "3                           hey district please vote   \n",
       "4                                   vote blue matter   \n",
       "\n",
       "                                final_cleaned_tweets sentiment_Original  \\\n",
       "0  taking account personal bad everyone better tr...           positive   \n",
       "1                                  whats song voting           positive   \n",
       "2  speak opinion like rest u opinion vote republi...           negative   \n",
       "3                           hey district please vote           positive   \n",
       "4                                   vote blue matter           negative   \n",
       "\n",
       "  sentiment_cleaned sentiment_nlpfinal  \\\n",
       "0          positive           positive   \n",
       "1           neutral            neutral   \n",
       "2          positive           positive   \n",
       "3          positive           positive   \n",
       "4           neutral            neutral   \n",
       "\n",
       "                                      vader_polarity  \n",
       "0  {'neg': 0.271, 'neu': 0.403, 'pos': 0.326, 'co...  \n",
       "1  {'neg': 0.0, 'neu': 1.0, 'pos': 0.0, 'compound...  \n",
       "2  {'neg': 0.0, 'neu': 0.828, 'pos': 0.172, 'comp...  \n",
       "3  {'neg': 0.0, 'neu': 0.566, 'pos': 0.434, 'comp...  \n",
       "4  {'neg': 0.0, 'neu': 0.645, 'pos': 0.355, 'comp...  "
      ]
     },
     "execution_count": 2,
     "metadata": {},
     "output_type": "execute_result"
    }
   ],
   "source": [
    "# Loading All the tweets \n",
    "\n",
    "df = pd.read_pickle('source/nlp_sentiments.pkl')\n",
    "df.head()"
   ]
  },
  {
   "cell_type": "markdown",
   "metadata": {},
   "source": [
    "**Preparing for NB**"
   ]
  },
  {
   "cell_type": "markdown",
   "metadata": {},
   "source": [
    "**CountVectorizer** creates a matrix in which each unique word is represented by a column of the matrix, and each text sample from the document is a row in the matrix. The value of each cell is nothing but the count of the word in that particular text sample how many times given words were found in the document.\n",
    "\n",
    "#sparse matrix\n",
    "\n",
    "#document[0]\t0\t0\t0\t1\t1\t0\t0\t1\t0\t1\t0\t1\n",
    "\n",
    "#document[1]\t0\t0\t1\t0\t2\t0\t1\t0\t0\t0\t0\t1\n",
    "\n",
    "#document[2]\t1\t1\t0\t1\t1\t1\t0\t1\t1\t0\t1\t0"
   ]
  },
  {
   "cell_type": "code",
   "execution_count": 3,
   "metadata": {},
   "outputs": [],
   "source": [
    "#Initializing lists to be used in plotting later.\n",
    "accuracy_ngrams = []\n",
    "recall_ngrams = []\n",
    "precion_ngrams = []\n",
    "f1_ngrams = []"
   ]
  },
  {
   "cell_type": "code",
   "execution_count": 4,
   "metadata": {},
   "outputs": [],
   "source": [
    "def naivebayesCV():\n",
    "    #training and testing feature vectors\n",
    "    \n",
    "    for n in [1,2,3,5]:\n",
    "        token = RegexpTokenizer(r'[a-zA-Z0-9]+')\n",
    "        cv = CountVectorizer(stop_words='english',ngram_range = (n,n), tokenizer = token.tokenize)\n",
    "        text_counts = cv.fit_transform(df['final_cleaned_tweets'])\n",
    "\n",
    "        X_train, X_test, Y_train, Y_test = train_test_split(text_counts, df['sentiment_nlpfinal'], test_size=0.25, random_state=5)\n",
    "\n",
    "        MNB = MultinomialNB()\n",
    "        MNB.fit(X_train, Y_train)\n",
    "        \n",
    "        predicted = MNB.predict(X_test)\n",
    "        \n",
    "        accuracy_score = (metrics.accuracy_score(Y_test,predicted))\n",
    "        accuracy_score = (round(accuracy_score,2))*100\n",
    "        accuracy_ngrams.append(accuracy_score)\n",
    "\n",
    "        precision = (metrics.precision_score(Y_test, predicted, average='macro'))\n",
    "        precision = (round(precision,2))*100\n",
    "        precion_ngrams.append(precision)\n",
    "\n",
    "        recall = (metrics.recall_score(Y_test, predicted, average='macro'))\n",
    "        recall = (round(recall,2))*100\n",
    "        recall_ngrams.append(recall)\n",
    "\n",
    "        f1 = (metrics.f1_score(Y_test, predicted, average='macro'))\n",
    "        f1 = (round(f1,2))*100\n",
    "        f1_ngrams.append(f1)\n",
    "\n",
    "        # print(\"\\n\\nConfusion Matrix for k = {} is:\\n\".format(k))\n",
    "        # print(confusion_mat)\n",
    "        # print(\"\\nClassification Report for k = {} is:\\n\".format(k))\n",
    "        # print(class_report)\n",
    "        print(\"Accuracy Score for ngrams = {0} is: {1}%\".format(n,accuracy_score))\n",
    "        print(\"Recall for ngrams = {0} is: {1}%\".format(n,recall))\n",
    "        print(\"Precision for ngrams = {0} is: {1}%\".format(n,precision))\n",
    "        print(\"F1-score for ngrams = {0} is: {1}%\".format(n,f1))"
   ]
  },
  {
   "cell_type": "code",
   "execution_count": 5,
   "metadata": {},
   "outputs": [
    {
     "name": "stdout",
     "output_type": "stream",
     "text": [
      "Accuracy Score for ngrams = 1 is: 75.0%\n",
      "Recall for ngrams = 1 is: 75.0%\n",
      "Precision for ngrams = 1 is: 75.0%\n",
      "F1-score for ngrams = 1 is: 75.0%\n",
      "Accuracy Score for ngrams = 2 is: 51.0%\n",
      "Recall for ngrams = 2 is: 50.0%\n",
      "Precision for ngrams = 2 is: 55.00000000000001%\n",
      "F1-score for ngrams = 2 is: 50.0%\n",
      "Accuracy Score for ngrams = 3 is: 34.0%\n",
      "Recall for ngrams = 3 is: 32.0%\n",
      "Precision for ngrams = 3 is: 46.0%\n",
      "F1-score for ngrams = 3 is: 28.000000000000004%\n",
      "Accuracy Score for ngrams = 5 is: 25.0%\n",
      "Recall for ngrams = 5 is: 23.0%\n",
      "Precision for ngrams = 5 is: 48.0%\n",
      "F1-score for ngrams = 5 is: 21.0%\n"
     ]
    }
   ],
   "source": [
    "naivebayesCV()"
   ]
  },
  {
   "cell_type": "code",
   "execution_count": 6,
   "metadata": {},
   "outputs": [
    {
     "data": {
      "text/plain": [
       "<function matplotlib.pyplot.show(close=None, block=None)>"
      ]
     },
     "execution_count": 6,
     "metadata": {},
     "output_type": "execute_result"
    },
    {
     "data": {
      "image/png": "[encoded data removed]",
      "text/plain": [
       "<Figure size 864x720 with 4 Axes>"
      ]
     },
     "metadata": {
      "needs_background": "light"
     },
     "output_type": "display_data"
    }
   ],
   "source": [
    "#print(accuracy_ngrams)\n",
    "ngrams = [1,2,3,5] \n",
    "\n",
    "fig = plt.figure(figsize=(12,10))\n",
    "\n",
    "plt.subplot(2,2,1)\n",
    "plt.plot(ngrams, accuracy_ngrams)\n",
    "plt.title(\"Accuracy n-grams increase\",fontsize='x-large')\n",
    "plt.xlabel(\"n-grams\",fontsize='large')\n",
    "plt.ylabel(\"Accuracy\",fontsize='large')\n",
    "\n",
    "plt.subplot(2,2,2)\n",
    "plt.plot(ngrams,recall_ngrams)\n",
    "plt.title(\"Recall n-grams increase\",fontsize='x-large')\n",
    "plt.xlabel(\"n-grams\",fontsize='large')\n",
    "plt.ylabel(\"Recall\",fontsize='large')\n",
    "\n",
    "plt.subplot(2,2,3)\n",
    "plt.plot(ngrams,precion_ngrams)\n",
    "plt.title(\"Precision n-grams increase\",fontsize='x-large')\n",
    "plt.xlabel(\"n-grams\",fontsize='large')\n",
    "plt.ylabel(\"Precision\",fontsize='large')\n",
    "\n",
    "plt.subplot(2,2,4)\n",
    "plt.plot(ngrams,f1_ngrams)\n",
    "plt.title(\"F1 n-grams increase\",fontsize='x-large')\n",
    "plt.xlabel(\"n-grams\",fontsize='large')\n",
    "plt.ylabel(\"F1\",fontsize='large')\n",
    "\n",
    "fig.subplots_adjust(hspace=0.5)\n",
    "\n",
    "plt.show"
   ]
  },
  {
   "cell_type": "code",
   "execution_count": 7,
   "metadata": {},
   "outputs": [],
   "source": [
    "accuracy_ngrams = []\n",
    "recall_ngrams = []\n",
    "precion_ngrams = []\n",
    "f1_ngrams = []"
   ]
  },
  {
   "cell_type": "code",
   "execution_count": 8,
   "metadata": {},
   "outputs": [],
   "source": [
    "from sklearn.feature_extraction.text import TfidfVectorizer\n",
    "def naivebayesTFIDF():\n",
    "    #training and testing feature vectors\n",
    "    \n",
    "    for n in [1,2,3,5]:\n",
    "        token = RegexpTokenizer(r'[a-zA-Z0-9]+')\n",
    "        tfidf = TfidfVectorizer(stop_words='english',ngram_range = (n,n), analyzer='word', use_idf=True)#tokenizer = token.tokenize)\n",
    "        text_count2 = tfidf.fit_transform(df['final_cleaned_tweets'])\n",
    "\n",
    "        X_train, X_test, Y_train, Y_test = train_test_split(text_count2, df['sentiment_nlpfinal'], test_size=0.25, random_state=5)\n",
    "\n",
    "        MNB = MultinomialNB()\n",
    "        MNB.fit(X_train, Y_train)\n",
    "        \n",
    "        predicted = MNB.predict(X_test)\n",
    "        \n",
    "        accuracy_score = (metrics.accuracy_score(Y_test,predicted))\n",
    "        accuracy_score = (round(accuracy_score,2))*100\n",
    "        accuracy_ngrams.append(accuracy_score)\n",
    "\n",
    "        precision = (metrics.precision_score(Y_test, predicted, average='macro'))\n",
    "        precision = (round(precision,2))*100\n",
    "        precion_ngrams.append(precision)\n",
    "\n",
    "        recall = (metrics.recall_score(Y_test, predicted, average='macro'))\n",
    "        recall = (round(recall,2))*100\n",
    "        recall_ngrams.append(recall)\n",
    "\n",
    "        f1 = (metrics.f1_score(Y_test, predicted, average='macro'))\n",
    "        f1 = (round(f1,2))*100\n",
    "        f1_ngrams.append(f1)\n",
    "\n",
    "        #print(\"\\n\\nConfusion Matrix for k = {} is:\\n\".format(k))\n",
    "        #print(confusion_mat)\n",
    "        #print(\"\\nClassification Report for k = {} is:\\n\".format(k))\n",
    "        #print(class_report)\n",
    "        print(\"Accuracy Score for ngrams = {0} is: {1}%\".format(n,accuracy_score))\n",
    "        print(\"Recall for ngrams = {0} is: {1}%\".format(n,recall))\n",
    "        print(\"Precision for ngrams = {0} is: {1}%\".format(n,precision))\n",
    "        print(\"F1-score for ngrams = {0} is: {1}%\".format(n,f1))"
   ]
  },
  {
   "cell_type": "code",
   "execution_count": 9,
   "metadata": {},
   "outputs": [
    {
     "name": "stdout",
     "output_type": "stream",
     "text": [
      "Accuracy Score for ngrams = 1 is: 75.0%\n",
      "Recall for ngrams = 1 is: 72.0%\n",
      "Precision for ngrams = 1 is: 78.0%\n",
      "F1-score for ngrams = 1 is: 74.0%\n",
      "Accuracy Score for ngrams = 2 is: 51.0%\n",
      "Recall for ngrams = 2 is: 47.0%\n",
      "Precision for ngrams = 2 is: 60.0%\n",
      "F1-score for ngrams = 2 is: 44.0%\n",
      "Accuracy Score for ngrams = 3 is: 32.0%\n",
      "Recall for ngrams = 3 is: 28.999999999999996%\n",
      "Precision for ngrams = 3 is: 52.0%\n",
      "F1-score for ngrams = 3 is: 26.0%\n",
      "Accuracy Score for ngrams = 5 is: 26.0%\n",
      "Recall for ngrams = 5 is: 23.0%\n",
      "Precision for ngrams = 5 is: 48.0%\n",
      "F1-score for ngrams = 5 is: 20.0%\n"
     ]
    }
   ],
   "source": [
    "naivebayesTFIDF()"
   ]
  },
  {
   "cell_type": "code",
   "execution_count": 10,
   "metadata": {},
   "outputs": [
    {
     "data": {
      "text/plain": [
       "<function matplotlib.pyplot.show(close=None, block=None)>"
      ]
     },
     "execution_count": 10,
     "metadata": {},
     "output_type": "execute_result"
    },
    {
     "data": {
      "image/png": "[encoded data removed]",
      "text/plain": [
       "<Figure size 864x576 with 4 Axes>"
      ]
     },
     "metadata": {
      "needs_background": "light"
     },
     "output_type": "display_data"
    }
   ],
   "source": [
    "#print(accuracy_ngrams)\n",
    "ngrams = [1,2,3,5] \n",
    "\n",
    "fig = plt.figure(figsize=(12,8))\n",
    "\n",
    "plt.subplot(2,2,1)\n",
    "plt.plot(ngrams, accuracy_ngrams)\n",
    "plt.title(\"Accuracy n-grams increase\",fontsize='x-large')\n",
    "plt.xlabel(\"n-grams\",fontsize='large')\n",
    "plt.ylabel(\"Accuracy\",fontsize='large')\n",
    "\n",
    "plt.subplot(2,2,2)\n",
    "plt.plot(ngrams,recall_ngrams)\n",
    "plt.title(\"Recall n-grams increase\",fontsize='x-large')\n",
    "plt.xlabel(\"n-grams\",fontsize='large')\n",
    "plt.ylabel(\"Recall\",fontsize='large')\n",
    "\n",
    "plt.subplot(2,2,3)\n",
    "plt.plot(ngrams,precion_ngrams)\n",
    "plt.title(\"Precision n-grams increase\",fontsize='x-large')\n",
    "plt.xlabel(\"n-grams\",fontsize='large')\n",
    "plt.ylabel(\"Precision\",fontsize='large')\n",
    "\n",
    "plt.subplot(2,2,4)\n",
    "plt.plot(ngrams,f1_ngrams)\n",
    "plt.title(\"F1 n-grams increase\",fontsize='x-large')\n",
    "plt.xlabel(\"n-grams\",fontsize='large')\n",
    "plt.ylabel(\"F1\",fontsize='large')\n",
    "\n",
    "fig.subplots_adjust(hspace=.5)\n",
    "\n",
    "plt.show"
   ]
  }
 ],
 "metadata": {
  "kernelspec": {
   "display_name": "base",
   "language": "python",
   "name": "python3"
  },
  "language_info": {
   "codemirror_mode": {
    "name": "ipython",
    "version": 3
   },
   "file_extension": ".py",
   "mimetype": "text/x-python",
   "name": "python",
   "nbconvert_exporter": "python",
   "pygments_lexer": "ipython3",
   "version": "3.9.12 (main, Apr  4 2022, 05:22:27) [MSC v.1916 64 bit (AMD64)]"
  },
  "vscode": {
   "interpreter": {
    "hash": "2e25ac0a2ec4bd15a326cc0293192c3a8a84da789cecae9df6446c66fd6bfd19"
   }
  }
 },
 "nbformat": 4,
 "nbformat_minor": 2
}
