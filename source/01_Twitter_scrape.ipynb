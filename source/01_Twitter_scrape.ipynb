{
 "cells": [
  {
   "cell_type": "markdown",
   "metadata": {},
   "source": [
    "### **Implementation Details**\n",
    "\n",
    "\n",
    "#### **Step 1: Data Scrapping & Storage**\n",
    "\n",
    "1. **Raw Data Capture**\n",
    "* We used SNSCRAPE for capturing the tweets. We captured 20000 tweets from 1st July to 8th November (Midterm Election Day in US).\n",
    "\n",
    "2. **Ingestion and Storage**\n",
    "\n",
    "* All the 20000 tweets are available in **data** Folder in tweets_final.csv. You can use these tweets as the main data for this project. \n",
    "\n",
    "**Note that this is a one time activity and you do not need to run this script again** . However If you want to download the tweets again, use the script below to download them again."
   ]
  },
  {
   "cell_type": "code",
   "execution_count": 1,
   "metadata": {},
   "outputs": [],
   "source": [
    "#libraries needed\n",
    "import pandas as pd\n",
    "import snscrape.modules.twitter as sntwitter"
   ]
  },
  {
   "cell_type": "code",
   "execution_count": 4,
   "metadata": {},
   "outputs": [],
   "source": [
    "# Run this code only once. If tweets_final.csv exists in the working directly , no need to run this again.\n",
    "# July-Nov\n",
    "\n",
    "query = \"(democrats OR republican OR vote OR voting OR #ElectionDay OR electionday OR Election OR #election2022 OR midterms OR #midterm2022 OR #vote2022 OR #GOP ) since:2022-07-01 until:2022-11-08\"\n",
    "tweets = []\n",
    "for i, tweet in enumerate(sntwitter.TwitterSearchScraper(query).get_items()):\n",
    "    if i>20000:\n",
    "        break\n",
    "    else:\n",
    "        tweets.append([tweet.date, tweet.id, tweet.user.location, tweet.content, tweet.likeCount, tweet.retweetCount, tweet.lang])\n",
    "df = pd.DataFrame(tweets, columns = ['Date', 'ID', 'location', 'tweet', 'num_of_likes', 'num_of_retweet', 'language'])\n",
    "df.to_csv('data/tweets_final.csv', mode = 'a')"
   ]
  }
 ],
 "metadata": {
  "kernelspec": {
   "display_name": "Python 3.9.12 64-bit ('base': conda)",
   "language": "python",
   "name": "python3"
  },
  "language_info": {
   "codemirror_mode": {
    "name": "ipython",
    "version": 3
   },
   "file_extension": ".py",
   "mimetype": "text/x-python",
   "name": "python",
   "nbconvert_exporter": "python",
   "pygments_lexer": "ipython3",
   "version": "3.9.12"
  },
  "orig_nbformat": 4,
  "vscode": {
   "interpreter": {
    "hash": "2e25ac0a2ec4bd15a326cc0293192c3a8a84da789cecae9df6446c66fd6bfd19"
   }
  }
 },
 "nbformat": 4,
 "nbformat_minor": 2
}
